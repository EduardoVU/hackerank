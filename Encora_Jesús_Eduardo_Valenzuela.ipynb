{
  "nbformat": 4,
  "nbformat_minor": 0,
  "metadata": {
    "colab": {
      "name": "Encora Jesús Eduardo Valenzuela.ipynb",
      "provenance": []
    },
    "kernelspec": {
      "name": "python3",
      "display_name": "Python 3"
    },
    "language_info": {
      "name": "python"
    }
  },
  "cells": [
    {
      "cell_type": "markdown",
      "source": [
        "**Ejercicio**"
      ],
      "metadata": {
        "id": "BLY_ut_MwmzJ"
      }
    },
    {
      "cell_type": "code",
      "execution_count": 4,
      "metadata": {
        "colab": {
          "base_uri": "https://localhost:8080/"
        },
        "id": "hylpPSTrwe3u",
        "outputId": "34d429a0-0535-427a-f0d5-ef7d6ff9ff66"
      },
      "outputs": [
        {
          "output_type": "stream",
          "name": "stdout",
          "text": [
            "Hora de inicio en fornato HH:MM 01:15\n",
            "Hora de terminación en formato HH:MM 01:29\n",
            "La verdadera hora de inicio de ronda es:  1 : 15\n",
            "La verdadera hora de conclusión de la ultima ronda es  1 : 15\n",
            "El numero total de rondas jugadas es:  0.0\n"
          ]
        }
      ],
      "source": [
        "#Para este programa asumiré que:\n",
        "  #1.- No se puede entrar en una ronda ya iniciada\n",
        "  #2.- No se puede salir una vez la ronda inicie, debe estar dentro del juego hasta el final\n",
        "  #Por lo que el programa calcula la cantidad de rondas COMPLETAS que se jugaron\n",
        "\n",
        "\n",
        "hora_inicio = str(input(\"Hora de inicio en fornato HH:MM \")) #entrada de la hora de inicio\n",
        "hora_final = str(input(\"Hora de terminación en formato HH:MM \")) #entrada de la hora final\n",
        "hora_a=\"\" #string donde se almacenarán los dos caracteres de la hora de inicio\n",
        "hora_b=\"\" #string donde se almacenarán los dos caracteres de la hora final\n",
        "minutos_a=\"\" #string donde se almacenarán los dos caracteres de los minutos de la hora de inicio\n",
        "minutos_b=\"\"#string donde se almacenarán los dos caracteres de los miutos de la hora final\n",
        "horas_dia = 24*60\n",
        "\n",
        "#Estos loops se encargaron de la asignación de caracteres a las variables previamente mencionadas\n",
        "for i in range(0,2):\n",
        "  hora_a= hora_a + hora_inicio[i]\n",
        "  hora_b= hora_b + hora_final[i]\n",
        "hora_a , hora_b = int(hora_a), int(hora_b)\n",
        "for j in range(3,5):\n",
        "  minutos_a=minutos_a+hora_inicio[j]\n",
        "  minutos_b=minutos_b+hora_final[j]\n",
        "minutos_a, minutos_b = int(minutos_a) , int(minutos_b)\n",
        "\n",
        "\n",
        "\n",
        "#Condiciones para los minutos en la hora de inicio, poniendo en sí, el verdadero tiempo en minutos en el que inició una partida\n",
        "#De esta manera en caso de que se conecte y tenga que esperar una partida, tomará en cuenta como si se hubiese conectado exactamente a la \n",
        "#hora de inicio de la partida próxima\n",
        "if minutos_a > 0 and minutos_a <= 15: \n",
        "  minutos_a = 15\n",
        "elif minutos_a > 15 and minutos_a <=30:\n",
        "  minutos_a = 30\n",
        "elif minutos_a > 30 and minutos_a <=45:\n",
        "  minutos_a = 45\n",
        "else:\n",
        "  minutos_a = 0\n",
        "\n",
        "\n",
        "#Condiciones para los minutos en la hora de terminación, poniendo en sí, el verdadero tiempo en minutos en el que terminó una partida\n",
        "#Como en el caso anterior, solo que asegurando de que juegue solo partidas completas, si se desconecta en medio de una partida, no cuenta\n",
        "#en el conteo\n",
        "if minutos_b > 0 and minutos_b <= 15:\n",
        "  minutos_b = 0\n",
        "elif minutos_b > 15 and minutos_b <=30:\n",
        "  minutos_b = 15\n",
        "elif minutos_b > 30 and minutos_b <=45:\n",
        "  minutos_b = 30\n",
        "else:\n",
        "  minutos_b = 45\n",
        "\n",
        "#Horas reseteadas\n",
        "  \n",
        "print(\"La verdadera hora de inicio de ronda es: \",hora_a,\":\",minutos_a) \n",
        "print(\"La verdadera hora de conclusión de la ultima ronda es \",hora_b,\":\",minutos_b)\n",
        "\n",
        "\n",
        "\n",
        "#Conversión de horas a minutos\n",
        "hora_a = hora_a*60\n",
        "hora_b = hora_b*60\n",
        "\n",
        "#Diferencia de tiempos en minutos\n",
        "tiempo_a = hora_a + minutos_a\n",
        "tiempo_b = hora_b + minutos_b\n",
        "\n",
        "#Para asegurar el orden de diferencias\n",
        "if tiempo_a > tiempo_b:\n",
        "  diferencia_tiempo = horas_dia - (tiempo_a - tiempo_b)\n",
        "elif tiempo_a == tiempo_b:\n",
        "  diferencia_tiempo = 0\n",
        "else:\n",
        "  diferencia_tiempo = tiempo_b - tiempo_a\n",
        "\n",
        "#Calculo de rondas jugadas\n",
        "rondas_jugadas = diferencia_tiempo/15\n",
        "print(\"El numero total de rondas jugadas es: \",rondas_jugadas)\n",
        "\n"
      ]
    },
    {
      "cell_type": "code",
      "source": [
        ""
      ],
      "metadata": {
        "id": "eywfePggwppW"
      },
      "execution_count": 4,
      "outputs": []
    }
  ]
}